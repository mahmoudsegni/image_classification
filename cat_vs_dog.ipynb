{
  "cells": [
    {
      "cell_type": "code",
      "execution_count": null,
      "metadata": {
        "id": "u0uveh5LCI4u"
      },
      "outputs": [],
      "source": [
        "!mkdir ~/.kaggle"
      ]
    },
    {
      "cell_type": "code",
      "execution_count": null,
      "metadata": {
        "id": "HBC3iuiNCI1M"
      },
      "outputs": [],
      "source": [
        "! cp kaggle.json ~/.kaggle/"
      ]
    },
    {
      "cell_type": "code",
      "execution_count": null,
      "metadata": {
        "id": "0TCiCfyZCIzA"
      },
      "outputs": [],
      "source": [
        "!chmod 600 ~/.kaggle/kaggle.json"
      ]
    },
    {
      "cell_type": "code",
      "execution_count": null,
      "metadata": {
        "colab": {
          "base_uri": "https://localhost:8080/"
        },
        "id": "mqa2FmmrClqj",
        "outputId": "2a2c37db-79d7-42ac-f5a9-38fd6cd7c609"
      },
      "outputs": [
        {
          "name": "stdout",
          "output_type": "stream",
          "text": [
            "Warning: Looks like you're using an outdated API Version, please consider updating (server 1.5.12 / client 1.5.4)\n",
            "Downloading sample_submission.csv to /content\n",
            "  0% 0.00/111k [00:00<?, ?B/s]\n",
            "100% 111k/111k [00:00<00:00, 34.5MB/s]\n",
            "Downloading train.zip to /content\n",
            " 97% 525M/544M [00:02<00:00, 186MB/s]\n",
            "100% 544M/544M [00:02<00:00, 196MB/s]\n",
            "Downloading test.zip to /content\n",
            " 97% 264M/271M [00:01<00:00, 183MB/s]\n",
            "100% 271M/271M [00:01<00:00, 190MB/s]\n"
          ]
        }
      ],
      "source": [
        "! kaggle competitions download dogs-vs-cats-redux-kernels-edition"
      ]
    },
    {
      "cell_type": "code",
      "execution_count": null,
      "metadata": {
        "id": "Yc6Drp0KCH1p"
      },
      "outputs": [],
      "source": [
        "\n",
        "from glob import glob\n",
        "import re\n",
        "import zipfile\n",
        "import shutil\n",
        "import pandas as pd\n",
        "from PIL import Image\n",
        "import os\n",
        "from glob import glob\n",
        "import pandas as pd\n",
        "import tensorflow as tf\n",
        "from tensorflow.keras.preprocessing.image import load_img, ImageDataGenerator\n",
        "from tensorflow.keras import datasets, layers, models\n",
        "from tensorflow.keras.regularizers import l2\n",
        "import matplotlib.pyplot as plt\n",
        "import numpy as np"
      ]
    },
    {
      "cell_type": "code",
      "execution_count": null,
      "metadata": {
        "id": "ZiFif077CH1s"
      },
      "outputs": [],
      "source": [
        "with zipfile.ZipFile(\"/content/train.zip\",\"r\") as z:\n",
        "    z.extractall(\".\")\n",
        "    \n",
        "with zipfile.ZipFile(\"/content/test.zip\",\"r\") as z:\n",
        "    z.extractall(\".\")"
      ]
    },
    {
      "cell_type": "code",
      "execution_count": null,
      "metadata": {
        "colab": {
          "base_uri": "https://localhost:8080/",
          "height": 423
        },
        "id": "mmCwZg1UCH1s",
        "outputId": "2d7676e5-5dcf-423b-9e8e-4e7544f83bbc"
      },
      "outputs": [
        {
          "data": {
            "text/html": [
              "\n",
              "  <div id=\"df-8ec06e99-7cf5-4f87-9619-1fc00ccd56eb\">\n",
              "    <div class=\"colab-df-container\">\n",
              "      <div>\n",
              "<style scoped>\n",
              "    .dataframe tbody tr th:only-of-type {\n",
              "        vertical-align: middle;\n",
              "    }\n",
              "\n",
              "    .dataframe tbody tr th {\n",
              "        vertical-align: top;\n",
              "    }\n",
              "\n",
              "    .dataframe thead th {\n",
              "        text-align: right;\n",
              "    }\n",
              "</style>\n",
              "<table border=\"1\" class=\"dataframe\">\n",
              "  <thead>\n",
              "    <tr style=\"text-align: right;\">\n",
              "      <th></th>\n",
              "      <th>Image</th>\n",
              "      <th>Labels</th>\n",
              "    </tr>\n",
              "  </thead>\n",
              "  <tbody>\n",
              "    <tr>\n",
              "      <th>0</th>\n",
              "      <td>dog.8747.jpg</td>\n",
              "      <td>1</td>\n",
              "    </tr>\n",
              "    <tr>\n",
              "      <th>1</th>\n",
              "      <td>dog.8614.jpg</td>\n",
              "      <td>1</td>\n",
              "    </tr>\n",
              "    <tr>\n",
              "      <th>2</th>\n",
              "      <td>dog.5931.jpg</td>\n",
              "      <td>1</td>\n",
              "    </tr>\n",
              "    <tr>\n",
              "      <th>3</th>\n",
              "      <td>cat.8403.jpg</td>\n",
              "      <td>0</td>\n",
              "    </tr>\n",
              "    <tr>\n",
              "      <th>4</th>\n",
              "      <td>dog.8218.jpg</td>\n",
              "      <td>1</td>\n",
              "    </tr>\n",
              "    <tr>\n",
              "      <th>...</th>\n",
              "      <td>...</td>\n",
              "      <td>...</td>\n",
              "    </tr>\n",
              "    <tr>\n",
              "      <th>24995</th>\n",
              "      <td>dog.10924.jpg</td>\n",
              "      <td>1</td>\n",
              "    </tr>\n",
              "    <tr>\n",
              "      <th>24996</th>\n",
              "      <td>dog.3471.jpg</td>\n",
              "      <td>1</td>\n",
              "    </tr>\n",
              "    <tr>\n",
              "      <th>24997</th>\n",
              "      <td>dog.3013.jpg</td>\n",
              "      <td>1</td>\n",
              "    </tr>\n",
              "    <tr>\n",
              "      <th>24998</th>\n",
              "      <td>dog.6329.jpg</td>\n",
              "      <td>1</td>\n",
              "    </tr>\n",
              "    <tr>\n",
              "      <th>24999</th>\n",
              "      <td>dog.4152.jpg</td>\n",
              "      <td>1</td>\n",
              "    </tr>\n",
              "  </tbody>\n",
              "</table>\n",
              "<p>25000 rows × 2 columns</p>\n",
              "</div>\n",
              "      <button class=\"colab-df-convert\" onclick=\"convertToInteractive('df-8ec06e99-7cf5-4f87-9619-1fc00ccd56eb')\"\n",
              "              title=\"Convert this dataframe to an interactive table.\"\n",
              "              style=\"display:none;\">\n",
              "        \n",
              "  <svg xmlns=\"http://www.w3.org/2000/svg\" height=\"24px\"viewBox=\"0 0 24 24\"\n",
              "       width=\"24px\">\n",
              "    <path d=\"M0 0h24v24H0V0z\" fill=\"none\"/>\n",
              "    <path d=\"M18.56 5.44l.94 2.06.94-2.06 2.06-.94-2.06-.94-.94-2.06-.94 2.06-2.06.94zm-11 1L8.5 8.5l.94-2.06 2.06-.94-2.06-.94L8.5 2.5l-.94 2.06-2.06.94zm10 10l.94 2.06.94-2.06 2.06-.94-2.06-.94-.94-2.06-.94 2.06-2.06.94z\"/><path d=\"M17.41 7.96l-1.37-1.37c-.4-.4-.92-.59-1.43-.59-.52 0-1.04.2-1.43.59L10.3 9.45l-7.72 7.72c-.78.78-.78 2.05 0 2.83L4 21.41c.39.39.9.59 1.41.59.51 0 1.02-.2 1.41-.59l7.78-7.78 2.81-2.81c.8-.78.8-2.07 0-2.86zM5.41 20L4 18.59l7.72-7.72 1.47 1.35L5.41 20z\"/>\n",
              "  </svg>\n",
              "      </button>\n",
              "      \n",
              "  <style>\n",
              "    .colab-df-container {\n",
              "      display:flex;\n",
              "      flex-wrap:wrap;\n",
              "      gap: 12px;\n",
              "    }\n",
              "\n",
              "    .colab-df-convert {\n",
              "      background-color: #E8F0FE;\n",
              "      border: none;\n",
              "      border-radius: 50%;\n",
              "      cursor: pointer;\n",
              "      display: none;\n",
              "      fill: #1967D2;\n",
              "      height: 32px;\n",
              "      padding: 0 0 0 0;\n",
              "      width: 32px;\n",
              "    }\n",
              "\n",
              "    .colab-df-convert:hover {\n",
              "      background-color: #E2EBFA;\n",
              "      box-shadow: 0px 1px 2px rgba(60, 64, 67, 0.3), 0px 1px 3px 1px rgba(60, 64, 67, 0.15);\n",
              "      fill: #174EA6;\n",
              "    }\n",
              "\n",
              "    [theme=dark] .colab-df-convert {\n",
              "      background-color: #3B4455;\n",
              "      fill: #D2E3FC;\n",
              "    }\n",
              "\n",
              "    [theme=dark] .colab-df-convert:hover {\n",
              "      background-color: #434B5C;\n",
              "      box-shadow: 0px 1px 3px 1px rgba(0, 0, 0, 0.15);\n",
              "      filter: drop-shadow(0px 1px 2px rgba(0, 0, 0, 0.3));\n",
              "      fill: #FFFFFF;\n",
              "    }\n",
              "  </style>\n",
              "\n",
              "      <script>\n",
              "        const buttonEl =\n",
              "          document.querySelector('#df-8ec06e99-7cf5-4f87-9619-1fc00ccd56eb button.colab-df-convert');\n",
              "        buttonEl.style.display =\n",
              "          google.colab.kernel.accessAllowed ? 'block' : 'none';\n",
              "\n",
              "        async function convertToInteractive(key) {\n",
              "          const element = document.querySelector('#df-8ec06e99-7cf5-4f87-9619-1fc00ccd56eb');\n",
              "          const dataTable =\n",
              "            await google.colab.kernel.invokeFunction('convertToInteractive',\n",
              "                                                     [key], {});\n",
              "          if (!dataTable) return;\n",
              "\n",
              "          const docLinkHtml = 'Like what you see? Visit the ' +\n",
              "            '<a target=\"_blank\" href=https://colab.research.google.com/notebooks/data_table.ipynb>data table notebook</a>'\n",
              "            + ' to learn more about interactive tables.';\n",
              "          element.innerHTML = '';\n",
              "          dataTable['output_type'] = 'display_data';\n",
              "          await google.colab.output.renderOutput(dataTable, element);\n",
              "          const docLink = document.createElement('div');\n",
              "          docLink.innerHTML = docLinkHtml;\n",
              "          element.appendChild(docLink);\n",
              "        }\n",
              "      </script>\n",
              "    </div>\n",
              "  </div>\n",
              "  "
            ],
            "text/plain": [
              "               Image Labels\n",
              "0       dog.8747.jpg      1\n",
              "1       dog.8614.jpg      1\n",
              "2       dog.5931.jpg      1\n",
              "3       cat.8403.jpg      0\n",
              "4       dog.8218.jpg      1\n",
              "...              ...    ...\n",
              "24995  dog.10924.jpg      1\n",
              "24996   dog.3471.jpg      1\n",
              "24997   dog.3013.jpg      1\n",
              "24998   dog.6329.jpg      1\n",
              "24999   dog.4152.jpg      1\n",
              "\n",
              "[25000 rows x 2 columns]"
            ]
          },
          "execution_count": 7,
          "metadata": {},
          "output_type": "execute_result"
        }
      ],
      "source": [
        "train = []                                     # create empty folder name as train\n",
        "label = []                                     # create empty folder name as label\n",
        "dct = {'cat':0 , 'dog': 1}\n",
        "# os.listdir returns the lisкенкенкеt of files in the folder, in this case image class names\n",
        "for i in os.listdir('./train'):                        \n",
        "    \n",
        "    train_class = i.split(\".\", 1)\n",
        "    \n",
        "    for j in train_class[0:1]:\n",
        "        \n",
        "        train.append(i)                         # append image file into the new folder train\n",
        "        \n",
        "        label.append(str(dct[j]))                     # append the name of folder as the label of the image file\n",
        "    \n",
        "        \n",
        "full_df = pd.DataFrame({'Image': train,'Labels': label})  # create data frame from dictionary with 2 coloums Image and Labels\n",
        "full_df"
      ]
    },
    {
      "cell_type": "code",
      "execution_count": null,
      "metadata": {
        "colab": {
          "base_uri": "https://localhost:8080/"
        },
        "id": "0pUbQkqjCH1t",
        "outputId": "89592d19-d9c2-418c-8964-fe92596ab11f"
      },
      "outputs": [
        {
          "name": "stdout",
          "output_type": "stream",
          "text": [
            "Found 20000 validated image filenames belonging to 2 classes.\n",
            "Found 5000 validated image filenames belonging to 2 classes.\n"
          ]
        }
      ],
      "source": [
        "path_base = '/kaggle/working/train'\n",
        "b_size = 64\n",
        "train_data_generator = ImageDataGenerator(\n",
        "            rescale=1./255.,\n",
        "            validation_split=0.2,\n",
        "            horizontal_flip=True\n",
        "            )\n",
        "\n",
        "\n",
        "train_generator = train_data_generator.flow_from_dataframe(dataframe=full_df,\n",
        "            directory=\"./train/\",\n",
        "            x_col=\"Image\",\n",
        "            y_col=\"Labels\",\n",
        "            subset=\"training\",\n",
        "            batch_size=b_size,\n",
        "            shuffle=True,\n",
        "            color_mode=\"rgb\",\n",
        "            target_size=(64,64),\n",
        "            class_mode=\"categorical\")\n",
        "\n",
        "\n",
        "validation_generator = train_data_generator.flow_from_dataframe(dataframe=full_df,\n",
        "            directory=\"./train/\",\n",
        "            x_col=\"Image\",\n",
        "            y_col=\"Labels\",\n",
        "            subset=\"validation\",\n",
        "            batch_size=b_size,\n",
        "            shuffle=True,\n",
        "            color_mode=\"rgb\",\n",
        "            target_size=(64,64),\n",
        "            class_mode=\"categorical\")"
      ]
    },
    {
      "cell_type": "code",
      "execution_count": null,
      "metadata": {
        "colab": {
          "base_uri": "https://localhost:8080/"
        },
        "id": "blcgYYj_CH1t",
        "outputId": "4f0ac745-f2dc-46f1-9ced-3b576016e3fd"
      },
      "outputs": [
        {
          "name": "stdout",
          "output_type": "stream",
          "text": [
            "Model: \"sequential\"\n",
            "_________________________________________________________________\n",
            " Layer (type)                Output Shape              Param #   \n",
            "=================================================================\n",
            " conv2d (Conv2D)             (None, 64, 64, 32)        896       \n",
            "                                                                 \n",
            " activation (Activation)     (None, 64, 64, 32)        0         \n",
            "                                                                 \n",
            " batch_normalization (BatchN  (None, 64, 64, 32)       128       \n",
            " ormalization)                                                   \n",
            "                                                                 \n",
            " conv2d_1 (Conv2D)           (None, 62, 62, 32)        9248      \n",
            "                                                                 \n",
            " activation_1 (Activation)   (None, 62, 62, 32)        0         \n",
            "                                                                 \n",
            " batch_normalization_1 (Batc  (None, 62, 62, 32)       128       \n",
            " hNormalization)                                                 \n",
            "                                                                 \n",
            " max_pooling2d (MaxPooling2D  (None, 31, 31, 32)       0         \n",
            " )                                                               \n",
            "                                                                 \n",
            " dropout (Dropout)           (None, 31, 31, 32)        0         \n",
            "                                                                 \n",
            " conv2d_2 (Conv2D)           (None, 31, 31, 64)        18496     \n",
            "                                                                 \n",
            " activation_2 (Activation)   (None, 31, 31, 64)        0         \n",
            "                                                                 \n",
            " batch_normalization_2 (Batc  (None, 31, 31, 64)       256       \n",
            " hNormalization)                                                 \n",
            "                                                                 \n",
            " conv2d_3 (Conv2D)           (None, 29, 29, 64)        36928     \n",
            "                                                                 \n",
            " activation_3 (Activation)   (None, 29, 29, 64)        0         \n",
            "                                                                 \n",
            " batch_normalization_3 (Batc  (None, 29, 29, 64)       256       \n",
            " hNormalization)                                                 \n",
            "                                                                 \n",
            " max_pooling2d_1 (MaxPooling  (None, 14, 14, 64)       0         \n",
            " 2D)                                                             \n",
            "                                                                 \n",
            " dropout_1 (Dropout)         (None, 14, 14, 64)        0         \n",
            "                                                                 \n",
            " flatten (Flatten)           (None, 12544)             0         \n",
            "                                                                 \n",
            " dense (Dense)               (None, 256)               3211520   \n",
            "                                                                 \n",
            " activation_4 (Activation)   (None, 256)               0         \n",
            "                                                                 \n",
            " dropout_2 (Dropout)         (None, 256)               0         \n",
            "                                                                 \n",
            " dense_1 (Dense)             (None, 2)                 514       \n",
            "                                                                 \n",
            " activation_5 (Activation)   (None, 2)                 0         \n",
            "                                                                 \n",
            "=================================================================\n",
            "Total params: 3,278,370\n",
            "Trainable params: 3,277,986\n",
            "Non-trainable params: 384\n",
            "_________________________________________________________________\n"
          ]
        }
      ],
      "source": [
        "cnn = models.Sequential()\n",
        "cnn.add(layers.Conv2D(32, (3, 3), padding='same',\n",
        "                 input_shape=(64, 64, 3)))\n",
        "cnn.add(layers.Activation('relu'))\n",
        "cnn.add(layers.BatchNormalization())\n",
        "cnn.add(layers.Conv2D(32, (3, 3)))\n",
        "cnn.add(layers.Activation('relu'))\n",
        "cnn.add(layers.BatchNormalization())\n",
        "cnn.add(layers.MaxPooling2D(pool_size=(2, 2)))\n",
        "cnn.add(layers.Dropout(0.25))\n",
        "\n",
        "cnn.add(layers.Conv2D(64, (3, 3), padding='same'))\n",
        "cnn.add(layers.Activation('relu'))\n",
        "cnn.add(layers.BatchNormalization())\n",
        "cnn.add(layers.Conv2D(64, (3, 3)))\n",
        "cnn.add(layers.Activation('relu'))\n",
        "cnn.add(layers.BatchNormalization())\n",
        "cnn.add(layers.MaxPooling2D(pool_size=(2, 2)))\n",
        "cnn.add(layers.Dropout(0.25))\n",
        "\n",
        "cnn.add(layers.Flatten())\n",
        "cnn.add(layers.Dense(256, kernel_regularizer=l2(0.01)))\n",
        "cnn.add(layers.Activation('relu'))\n",
        "cnn.add(layers.Dropout(0.3))\n",
        "cnn.add(layers.Dense(2))\n",
        "cnn.add(layers.Activation('softmax'))\n",
        "#   categorical_crossentropy\n",
        "cnn.compile(optimizer='adam', loss = 'categorical_crossentropy', metrics=['accuracy'])\n",
        "cnn.summary()"
      ]
    },
    {
      "cell_type": "code",
      "execution_count": null,
      "metadata": {
        "colab": {
          "background_save": true,
          "base_uri": "https://localhost:8080/"
        },
        "id": "Kzykvr1XCH1u",
        "outputId": "ecf2eb03-940c-4ec0-b3fc-45e621622251"
      },
      "outputs": [
        {
          "name": "stdout",
          "output_type": "stream",
          "text": [
            "Epoch 1/20\n",
            "313/313 [==============================] - 89s 250ms/step - loss: 2.4458 - accuracy: 0.6445 - val_loss: 1.1532 - val_accuracy: 0.5560\n",
            "Epoch 2/20\n",
            "313/313 [==============================] - 77s 246ms/step - loss: 0.8284 - accuracy: 0.7254 - val_loss: 0.9047 - val_accuracy: 0.7020\n",
            "Epoch 3/20\n",
            "313/313 [==============================] - 77s 246ms/step - loss: 0.7762 - accuracy: 0.7636 - val_loss: 0.6447 - val_accuracy: 0.7804\n",
            "Epoch 4/20\n",
            "313/313 [==============================] - 77s 247ms/step - loss: 0.6514 - accuracy: 0.7982 - val_loss: 0.7349 - val_accuracy: 0.7244\n",
            "Epoch 5/20\n",
            "313/313 [==============================] - 77s 246ms/step - loss: 0.5930 - accuracy: 0.8174 - val_loss: 0.6956 - val_accuracy: 0.7696\n",
            "Epoch 6/20\n",
            "313/313 [==============================] - 77s 246ms/step - loss: 0.5636 - accuracy: 0.8324 - val_loss: 0.5495 - val_accuracy: 0.8354\n",
            "Epoch 7/20\n",
            "313/313 [==============================] - 77s 245ms/step - loss: 0.5492 - accuracy: 0.8494 - val_loss: 0.5632 - val_accuracy: 0.8400\n",
            "Epoch 8/20\n",
            "313/313 [==============================] - 77s 245ms/step - loss: 0.5408 - accuracy: 0.8593 - val_loss: 0.5391 - val_accuracy: 0.8590\n",
            "Epoch 9/20\n",
            "313/313 [==============================] - 77s 245ms/step - loss: 0.5081 - accuracy: 0.8680 - val_loss: 0.5294 - val_accuracy: 0.8486\n",
            "Epoch 10/20\n",
            "313/313 [==============================] - 77s 246ms/step - loss: 0.4982 - accuracy: 0.8754 - val_loss: 0.5050 - val_accuracy: 0.8784\n",
            "Epoch 11/20\n",
            "313/313 [==============================] - 77s 246ms/step - loss: 0.4817 - accuracy: 0.8827 - val_loss: 0.6457 - val_accuracy: 0.7840\n",
            "Epoch 12/20\n",
            "313/313 [==============================] - 77s 245ms/step - loss: 0.4810 - accuracy: 0.8866 - val_loss: 0.5025 - val_accuracy: 0.8628\n",
            "Epoch 13/20\n",
            "313/313 [==============================] - 77s 247ms/step - loss: 0.4718 - accuracy: 0.8907 - val_loss: 0.6769 - val_accuracy: 0.8100\n",
            "Epoch 14/20\n",
            "313/313 [==============================] - 77s 247ms/step - loss: 0.4645 - accuracy: 0.8932 - val_loss: 0.5823 - val_accuracy: 0.8370\n",
            "Epoch 15/20\n",
            "313/313 [==============================] - 84s 268ms/step - loss: 0.4533 - accuracy: 0.8959 - val_loss: 0.5796 - val_accuracy: 0.8438\n",
            "Epoch 16/20\n",
            "313/313 [==============================] - 77s 247ms/step - loss: 0.4551 - accuracy: 0.9013 - val_loss: 0.5205 - val_accuracy: 0.8668\n",
            "Epoch 17/20\n",
            "313/313 [==============================] - 77s 247ms/step - loss: 0.4477 - accuracy: 0.9029 - val_loss: 0.5438 - val_accuracy: 0.8544\n",
            "Epoch 18/20\n",
            "313/313 [==============================] - 77s 246ms/step - loss: 0.4429 - accuracy: 0.9032 - val_loss: 0.4486 - val_accuracy: 0.8914\n",
            "Epoch 19/20\n",
            "313/313 [==============================] - 77s 244ms/step - loss: 0.4387 - accuracy: 0.9042 - val_loss: 0.4775 - val_accuracy: 0.8908\n",
            "Epoch 20/20\n",
            "313/313 [==============================] - 76s 243ms/step - loss: 0.4307 - accuracy: 0.9097 - val_loss: 0.4773 - val_accuracy: 0.8864\n"
          ]
        }
      ],
      "source": [
        "history = cnn.fit(train_generator, \n",
        "                    epochs= 20,\n",
        "                    validation_data=validation_generator,\n",
        "                    shuffle = True\n",
        "                   )"
      ]
    },
    {
      "cell_type": "code",
      "execution_count": null,
      "metadata": {
        "colab": {
          "background_save": true
        },
        "id": "0nH0COqSCH1u",
        "outputId": "266f761d-0077-414a-9590-7f3f9554f802"
      },
      "outputs": [
        {
          "data": {
            "image/png": "[encoded data removed]",
            "text/plain": [
              "<Figure size 432x288 with 1 Axes>"
            ]
          },
          "metadata": {},
          "output_type": "display_data"
        },
        {
          "data": {
            "image/png": "[encoded data removed]",
            "text/plain": [
              "<Figure size 432x288 with 1 Axes>"
            ]
          },
          "metadata": {},
          "output_type": "display_data"
        },
        {
          "data": {
            "image/png": "[encoded data removed]",
            "text/plain": [
              "<Figure size 432x288 with 1 Axes>"
            ]
          },
          "metadata": {},
          "output_type": "display_data"
        },
        {
          "data": {
            "image/png": "[encoded data removed]",
            "text/plain": [
              "<Figure size 432x288 with 1 Axes>"
            ]
          },
          "metadata": {},
          "output_type": "display_data"
        }
      ],
      "source": [
        "plt.plot(history.history['accuracy'])\n",
        "plt.title('model accuracy')\n",
        "plt.ylabel('accuracy')\n",
        "plt.xlabel('epoch')\n",
        "plt.show()\n",
        "\n",
        "\n",
        "plt.plot(history.history['val_accuracy'])\n",
        "plt.title('model val_accuracy')\n",
        "plt.ylabel('val_accuracy')\n",
        "plt.xlabel('epoch')\n",
        "plt.show()\n",
        "\n",
        "\n",
        "plt.plot(history.history['loss'])\n",
        "plt.title('model loss')\n",
        "plt.ylabel('loss')\n",
        "plt.xlabel('epoch')\n",
        "plt.show()\n",
        "\n",
        "\n",
        "plt.plot(history.history['val_loss'])\n",
        "plt.title('model val_loss')\n",
        "plt.ylabel('val_loss')\n",
        "plt.xlabel('epoch')\n",
        "plt.show()"
      ]
    },
    {
      "cell_type": "code",
      "execution_count": null,
      "metadata": {
        "colab": {
          "background_save": true
        },
        "id": "wtji-cHGCH1u"
      },
      "outputs": [],
      "source": [
        "!mkdir ./data/\n",
        "!mv ./test ./data"
      ]
    },
    {
      "cell_type": "code",
      "execution_count": null,
      "metadata": {
        "colab": {
          "background_save": true
        },
        "id": "1TjohdHyCH1v",
        "outputId": "32071c27-686b-41fd-fc0f-9f68ef0f25b9"
      },
      "outputs": [
        {
          "name": "stdout",
          "output_type": "stream",
          "text": [
            "Found 12500 images belonging to 1 classes.\n"
          ]
        }
      ],
      "source": [
        "test_data_generator = ImageDataGenerator(rescale=1./255.)\n",
        "test_generator = test_data_generator.flow_from_directory(directory='./data',\n",
        "            batch_size=b_size,\n",
        "            shuffle=False,color_mode='rgb',\n",
        "            target_size=(64,64),\n",
        "            class_mode='categorical')"
      ]
    },
    {
      "cell_type": "code",
      "execution_count": null,
      "metadata": {
        "id": "L5Xcb4qVCH1v"
      },
      "outputs": [],
      "source": [
        "prediction = cnn.predict(test_generator)"
      ]
    },
    {
      "cell_type": "code",
      "execution_count": null,
      "metadata": {
        "colab": {
          "background_save": true
        },
        "id": "5O13x-QOCH1v",
        "outputId": "8dabf705-0e68-4c30-ee9f-c9305008518f"
      },
      "outputs": [
        {
          "name": "stdout",
          "output_type": "stream",
          "text": [
            "[[7.6783133e-01 2.3216872e-01]\n",
            " [9.8609549e-01 1.3904497e-02]\n",
            " [8.3802599e-01 1.6197400e-01]\n",
            " ...\n",
            " [6.9866348e-03 9.9301344e-01]\n",
            " [9.9906641e-01 9.3366479e-04]\n",
            " [5.9051651e-01 4.0948355e-01]]\n"
          ]
        }
      ],
      "source": [
        "classes = ['cat', 'dog']\n",
        "print(prediction)"
      ]
    },
    {
      "cell_type": "code",
      "execution_count": null,
      "metadata": {
        "colab": {
          "background_save": true
        },
        "id": "l1M9ONq2CH1v",
        "outputId": "c0f3232b-87a2-4500-92f9-24f453174f83"
      },
      "outputs": [
        {
          "data": {
            "text/html": [
              "\n",
              "  <div id=\"df-1e382d76-d56d-44cc-8ec9-8f2a23d82317\">\n",
              "    <div class=\"colab-df-container\">\n",
              "      <div>\n",
              "<style scoped>\n",
              "    .dataframe tbody tr th:only-of-type {\n",
              "        vertical-align: middle;\n",
              "    }\n",
              "\n",
              "    .dataframe tbody tr th {\n",
              "        vertical-align: top;\n",
              "    }\n",
              "\n",
              "    .dataframe thead th {\n",
              "        text-align: right;\n",
              "    }\n",
              "</style>\n",
              "<table border=\"1\" class=\"dataframe\">\n",
              "  <thead>\n",
              "    <tr style=\"text-align: right;\">\n",
              "      <th></th>\n",
              "      <th>id</th>\n",
              "      <th>label</th>\n",
              "    </tr>\n",
              "  </thead>\n",
              "  <tbody>\n",
              "    <tr>\n",
              "      <th>0</th>\n",
              "      <td>1</td>\n",
              "      <td>0</td>\n",
              "    </tr>\n",
              "    <tr>\n",
              "      <th>1</th>\n",
              "      <td>10</td>\n",
              "      <td>0</td>\n",
              "    </tr>\n",
              "    <tr>\n",
              "      <th>2</th>\n",
              "      <td>100</td>\n",
              "      <td>0</td>\n",
              "    </tr>\n",
              "    <tr>\n",
              "      <th>3</th>\n",
              "      <td>1000</td>\n",
              "      <td>1</td>\n",
              "    </tr>\n",
              "    <tr>\n",
              "      <th>4</th>\n",
              "      <td>10000</td>\n",
              "      <td>1</td>\n",
              "    </tr>\n",
              "    <tr>\n",
              "      <th>...</th>\n",
              "      <td>...</td>\n",
              "      <td>...</td>\n",
              "    </tr>\n",
              "    <tr>\n",
              "      <th>12495</th>\n",
              "      <td>9995</td>\n",
              "      <td>0</td>\n",
              "    </tr>\n",
              "    <tr>\n",
              "      <th>12496</th>\n",
              "      <td>9996</td>\n",
              "      <td>1</td>\n",
              "    </tr>\n",
              "    <tr>\n",
              "      <th>12497</th>\n",
              "      <td>9997</td>\n",
              "      <td>1</td>\n",
              "    </tr>\n",
              "    <tr>\n",
              "      <th>12498</th>\n",
              "      <td>9998</td>\n",
              "      <td>0</td>\n",
              "    </tr>\n",
              "    <tr>\n",
              "      <th>12499</th>\n",
              "      <td>9999</td>\n",
              "      <td>0</td>\n",
              "    </tr>\n",
              "  </tbody>\n",
              "</table>\n",
              "<p>12500 rows × 2 columns</p>\n",
              "</div>\n",
              "      <button class=\"colab-df-convert\" onclick=\"convertToInteractive('df-1e382d76-d56d-44cc-8ec9-8f2a23d82317')\"\n",
              "              title=\"Convert this dataframe to an interactive table.\"\n",
              "              style=\"display:none;\">\n",
              "        \n",
              "  <svg xmlns=\"http://www.w3.org/2000/svg\" height=\"24px\"viewBox=\"0 0 24 24\"\n",
              "       width=\"24px\">\n",
              "    <path d=\"M0 0h24v24H0V0z\" fill=\"none\"/>\n",
              "    <path d=\"M18.56 5.44l.94 2.06.94-2.06 2.06-.94-2.06-.94-.94-2.06-.94 2.06-2.06.94zm-11 1L8.5 8.5l.94-2.06 2.06-.94-2.06-.94L8.5 2.5l-.94 2.06-2.06.94zm10 10l.94 2.06.94-2.06 2.06-.94-2.06-.94-.94-2.06-.94 2.06-2.06.94z\"/><path d=\"M17.41 7.96l-1.37-1.37c-.4-.4-.92-.59-1.43-.59-.52 0-1.04.2-1.43.59L10.3 9.45l-7.72 7.72c-.78.78-.78 2.05 0 2.83L4 21.41c.39.39.9.59 1.41.59.51 0 1.02-.2 1.41-.59l7.78-7.78 2.81-2.81c.8-.78.8-2.07 0-2.86zM5.41 20L4 18.59l7.72-7.72 1.47 1.35L5.41 20z\"/>\n",
              "  </svg>\n",
              "      </button>\n",
              "      \n",
              "  <style>\n",
              "    .colab-df-container {\n",
              "      display:flex;\n",
              "      flex-wrap:wrap;\n",
              "      gap: 12px;\n",
              "    }\n",
              "\n",
              "    .colab-df-convert {\n",
              "      background-color: #E8F0FE;\n",
              "      border: none;\n",
              "      border-radius: 50%;\n",
              "      cursor: pointer;\n",
              "      display: none;\n",
              "      fill: #1967D2;\n",
              "      height: 32px;\n",
              "      padding: 0 0 0 0;\n",
              "      width: 32px;\n",
              "    }\n",
              "\n",
              "    .colab-df-convert:hover {\n",
              "      background-color: #E2EBFA;\n",
              "      box-shadow: 0px 1px 2px rgba(60, 64, 67, 0.3), 0px 1px 3px 1px rgba(60, 64, 67, 0.15);\n",
              "      fill: #174EA6;\n",
              "    }\n",
              "\n",
              "    [theme=dark] .colab-df-convert {\n",
              "      background-color: #3B4455;\n",
              "      fill: #D2E3FC;\n",
              "    }\n",
              "\n",
              "    [theme=dark] .colab-df-convert:hover {\n",
              "      background-color: #434B5C;\n",
              "      box-shadow: 0px 1px 3px 1px rgba(0, 0, 0, 0.15);\n",
              "      filter: drop-shadow(0px 1px 2px rgba(0, 0, 0, 0.3));\n",
              "      fill: #FFFFFF;\n",
              "    }\n",
              "  </style>\n",
              "\n",
              "      <script>\n",
              "        const buttonEl =\n",
              "          document.querySelector('#df-1e382d76-d56d-44cc-8ec9-8f2a23d82317 button.colab-df-convert');\n",
              "        buttonEl.style.display =\n",
              "          google.colab.kernel.accessAllowed ? 'block' : 'none';\n",
              "\n",
              "        async function convertToInteractive(key) {\n",
              "          const element = document.querySelector('#df-1e382d76-d56d-44cc-8ec9-8f2a23d82317');\n",
              "          const dataTable =\n",
              "            await google.colab.kernel.invokeFunction('convertToInteractive',\n",
              "                                                     [key], {});\n",
              "          if (!dataTable) return;\n",
              "\n",
              "          const docLinkHtml = 'Like what you see? Visit the ' +\n",
              "            '<a target=\"_blank\" href=https://colab.research.google.com/notebooks/data_table.ipynb>data table notebook</a>'\n",
              "            + ' to learn more about interactive tables.';\n",
              "          element.innerHTML = '';\n",
              "          dataTable['output_type'] = 'display_data';\n",
              "          await google.colab.output.renderOutput(dataTable, element);\n",
              "          const docLink = document.createElement('div');\n",
              "          docLink.innerHTML = docLinkHtml;\n",
              "          element.appendChild(docLink);\n",
              "        }\n",
              "      </script>\n",
              "    </div>\n",
              "  </div>\n",
              "  "
            ],
            "text/plain": [
              "          id label\n",
              "0          1     0\n",
              "1         10     0\n",
              "2        100     0\n",
              "3       1000     1\n",
              "4      10000     1\n",
              "...      ...   ...\n",
              "12495   9995     0\n",
              "12496   9996     1\n",
              "12497   9997     1\n",
              "12498   9998     0\n",
              "12499   9999     0\n",
              "\n",
              "[12500 rows x 2 columns]"
            ]
          },
          "execution_count": null,
          "metadata": {},
          "output_type": "execute_result"
        }
      ],
      "source": [
        "\n",
        "prediction = np.argmax(prediction, axis = 1)\n",
        "submission = pd.DataFrame(columns=['id', 'label'], dtype=str)\n",
        "submission['label'] = [str(i) for i in prediction]\n",
        "submission['id'] = [ (''.join(filter(str.isdigit, name ))) for name in test_generator.filenames]\n",
        "\n",
        "submission.sort_values(by=['id'])\n"
      ]
    },
    {
      "cell_type": "code",
      "execution_count": null,
      "metadata": {
        "colab": {
          "background_save": true
        },
        "id": "ipWeTvB1CH1v"
      },
      "outputs": [],
      "source": [
        "# test = []                                     # create empty folder name as test\n",
        "# num_id = []                                   # create empty folder name as id number\n",
        "\n",
        "# # os.listdir returns the list of files in the folder, in this case image class names\n",
        "# for i in os.listdir('./data/test'):                             \n",
        "    \n",
        "#     test_class = i.split(\".\", 1)\n",
        "    \n",
        "#     for j in test_class[0:1]:\n",
        "        \n",
        "#         test.append(i)                         # append image file into the new folder train\n",
        "        \n",
        "#         num_id.append(j)                         # append the name of folder as the label of the image file\n",
        "        \n",
        "#   # create data frame from dictionary with 2 coloums Image and Labels\n",
        "# submission_df = pd.DataFrame({'Id': num_id, 'Image': test})"
      ]
    },
    {
      "cell_type": "code",
      "execution_count": null,
      "metadata": {
        "colab": {
          "background_save": true
        },
        "id": "rWQ8Sd1NCH1w"
      },
      "outputs": [],
      "source": [
        "# img_id = []\n",
        "# prediction = []\n",
        "\n",
        "# from keras.preprocessing import image\n",
        "# for i in range(0, submission_df.shape[0]):  \n",
        "   \n",
        "#     path = submission_df['Image'][i]\n",
        "\n",
        "#     img = image.load_img(path, target_size=(64, 64))\n",
        "    \n",
        "#   # converting image to array\n",
        "#     img = np.asarray(img, dtype= np.float32)\n",
        "    \n",
        "#   # normalizing the image\n",
        "#     img = img /255\n",
        "    \n",
        "#   # reshaping the image in to a 4D array\n",
        "#     img = img.reshape(-1,64,64,3)\n",
        "    \n",
        "#     result_predict = cnn.predict(img)[0]\n",
        "        \n",
        "#     prediction.append(\"%.2f\"%result_predict)\n",
        "    \n",
        "#     i_id = path.split(\".\", 1)\n",
        "    \n",
        "#     img_id.append(i_id)"
      ]
    },
    {
      "cell_type": "code",
      "execution_count": null,
      "metadata": {
        "id": "rmTjC9dDCH1w"
      },
      "outputs": [],
      "source": [
        "# submission = pd.DataFrame({'id': num_id, 'label': prediction})"
      ]
    },
    {
      "cell_type": "code",
      "execution_count": null,
      "metadata": {
        "id": "8pEsjV--CH1w"
      },
      "outputs": [],
      "source": [
        "%rm -rf ./train\n",
        "%rm -rf ./data"
      ]
    },
    {
      "cell_type": "code",
      "execution_count": null,
      "metadata": {
        "id": "jZ1EWzh7CH1w"
      },
      "outputs": [],
      "source": [
        "submission.to_csv('my_submission.csv', index=False)"
      ]
    }
  ],
  "metadata": {
    "accelerator": "GPU",
    "colab": {
      "collapsed_sections": [],
      "name": "cat-vs-dog-for-course.ipynb",
      "provenance": []
    },
    "kernelspec": {
      "display_name": "Python 3",
      "language": "python",
      "name": "python3"
    },
    "language_info": {
      "codemirror_mode": {
        "name": "ipython",
        "version": 3
      },
      "file_extension": ".py",
      "mimetype": "text/x-python",
      "name": "python",
      "nbconvert_exporter": "python",
      "pygments_lexer": "ipython3",
      "version": "3.7.10"
    }
  },
  "nbformat": 4,
  "nbformat_minor": 0
}